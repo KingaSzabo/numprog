{
 "cells": [
  {
   "cell_type": "markdown",
   "metadata": {},
   "source": [
    "## 5. Feladatsor\n",
    "\n",
    "\"kriptográfia\""
   ]
  },
  {
   "cell_type": "markdown",
   "metadata": {},
   "source": [
    "#### 0. Feladat:\n",
    "\n",
    "Magyarázzuk meg, hogy miért igaz a következő. Melyik alakot érdemes tényleges kódban használni?\n",
    "\n",
    "```octave\n",
    "all(arrayfun(@char, 'a' + (0:25)) == \"abcdefghijklmnopqrstuvwxyz\")\n",
    "```"
   ]
  },
  {
   "cell_type": "markdown",
   "metadata": {},
   "source": [
    "#### 1. Feladat:\n",
    "\n",
    "Shakespeare *The Merchant of Venice* c. <a href='http://shakespeare.mit.edu/merchant/full.html'>műve</a> alapján becsüljük meg, hogy a shakespeare-i angol szövegekben egyes karakterek (a-z) milyen gyakorisággal fordulnak elő. Készítsünk szemléltető ábrát is."
   ]
  },
  {
   "cell_type": "code",
   "execution_count": null,
   "metadata": {},
   "outputs": [],
   "source": [
    "pkg load statistics"
   ]
  },
  {
   "cell_type": "code",
   "execution_count": null,
   "metadata": {},
   "outputs": [],
   "source": [
    "merchant_txt = lower(fileread(\"merchant-full.txt\"));"
   ]
  },
  {
   "cell_type": "code",
   "execution_count": null,
   "metadata": {},
   "outputs": [],
   "source": [
    "t = tabulate(merchant_txt);\n"
   ]
  },
  {
   "cell_type": "code",
   "execution_count": null,
   "metadata": {},
   "outputs": [],
   "source": []
  },
  {
   "cell_type": "markdown",
   "metadata": {},
   "source": [
    "#### 2.feladat:"
   ]
  },
  {
   "cell_type": "markdown",
   "metadata": {},
   "source": [
    "a) Melyek a leggyakoribb betűk? Ábránkat rendezzük gyakoriság szerinti csökkenő sorrendbe."
   ]
  },
  {
   "cell_type": "code",
   "execution_count": null,
   "metadata": {},
   "outputs": [],
   "source": []
  },
  {
   "cell_type": "code",
   "execution_count": null,
   "metadata": {},
   "outputs": [],
   "source": []
  },
  {
   "cell_type": "markdown",
   "metadata": {},
   "source": [
    "b) \n",
    "Ez alapján próbáljuk meg kitalálni, hogy mi lehetett eredetileg az alábbi szövegrészlet, mielőtt minden karakterét egy másikra cseréltem egy szabály szerint. (pl. előfordulhatna, hogy `a`-t cseréltem `v`-re, `b`-t `y`-ra, stb.)\n",
    "\n",
    "*gura yrg zr frr gur engr*"
   ]
  },
  {
   "cell_type": "code",
   "execution_count": null,
   "metadata": {},
   "outputs": [],
   "source": [
    "function analyze_percentages(some_text)\n",
    "\n",
    "end"
   ]
  },
  {
   "cell_type": "code",
   "execution_count": null,
   "metadata": {},
   "outputs": [],
   "source": [
    "analyze_percentages(\"gura yrg zr frr gur engr\")"
   ]
  },
  {
   "cell_type": "code",
   "execution_count": 11,
   "metadata": {},
   "outputs": [
    {
     "name": "stdout",
     "output_type": "stream",
     "text": [
      "helper = ____ ___ __ ___ ___ ____\n",
      "helper = gura yrg zr frr gur engr\n"
     ]
    }
   ],
   "source": [
    "helper = repmat(\"_\", 1, numel(\"gura yrg zr frr gur engr\"));\n",
    "helper(\"gura yrg zr frr gur engr\" == \" \") = \" \"\n",
    "helper = \"gura yrg zr frr gur engr\""
   ]
  },
  {
   "cell_type": "markdown",
   "metadata": {},
   "source": [
    "#### 3.feladat:\n",
    "\n",
    "a) Írjunk függvényt (angol, kisbetűs) szöveg <a href=\"https://en.wikipedia.org/wiki/ROT13\">ROT13</a> kódolására. Felhasználhatjuk, hogy `'z' - 'a' == 25`."
   ]
  },
  {
   "cell_type": "code",
   "execution_count": 13,
   "metadata": {},
   "outputs": [
    {
     "name": "stdout",
     "output_type": "stream",
     "text": [
      "ans = then let me see the rate\n"
     ]
    }
   ],
   "source": [
    "function plaintext = rot13(ciphertext)\n",
    "\n",
    "end\n",
    "\n",
    "rot13(\"gura yrg zr frr gur engr\")"
   ]
  },
  {
   "cell_type": "markdown",
   "metadata": {},
   "source": [
    "Milyen tulajdonságot ellenőriz a következő teszt? Hogy lehetne megírni ciklus nélkül?"
   ]
  },
  {
   "cell_type": "code",
   "execution_count": 15,
   "metadata": {},
   "outputs": [],
   "source": [
    "function test_rot13(num_tests, text_len)\n",
    "    abc = [arrayfun(@char, 'a' + (0:25)), \n",
    "           \" \", \"-\", \"+\", \"/\"\n",
    "           arrayfun(@char, '0' + (0:8))];\n",
    "    for _=1:num_tests\n",
    "        random_text = abc(randi(numel(abc), 1, text_len));\n",
    "        assert(rot13(rot13(random_text)), random_text)\n",
    "    end\n",
    "end\n",
    "\n",
    "test_rot13(100, 20)"
   ]
  },
  {
   "cell_type": "markdown",
   "metadata": {},
   "source": [
    "b) Írjunk függvényt (angol, kisbetűs) szöveg <a href=\"https://en.wikipedia.org/wiki/Caesar_cipher\">Caesar-kódolására</a>. Az eltolás mértéke legyen bemeneti paraméter. Megoldásunkat ellenőrizzük a fentiekhez hasonlóan."
   ]
  },
  {
   "cell_type": "code",
   "execution_count": null,
   "metadata": {},
   "outputs": [],
   "source": []
  },
  {
   "cell_type": "markdown",
   "metadata": {},
   "source": [
    "#### 4.feladat:\n",
    "\n",
    "Írjunk függvényt (angol, kisbetűs) szöveg <a href=\"https://en.wikipedia.org/wiki/Substitution_cipher\">egyszerű helyettesítés</a> alapú kódolására. Milyen paraméterezés mellett kapjuk vissza az előző feladat a) részének megoldását?"
   ]
  },
  {
   "cell_type": "markdown",
   "metadata": {},
   "source": [
    "Használhatunk kulcs-érték párok tárolására szolgáló adatstruktúrát, azaz <a href=\"https://nl.mathworks.com/help/matlab/map-containers.html\">Map</a>-et:"
   ]
  },
  {
   "cell_type": "code",
   "execution_count": null,
   "metadata": {},
   "outputs": [],
   "source": [
    "char_map = containers.Map(num2cell(\"abcdefghijklmnopqrstuwvxyz\"), \n",
    "                          num2cell(\"nopqrstuvwxyzabcdefghijklm\"));\n",
    "\n",
    "char_map('a')\n",
    "char_map('b')\n",
    "char_map('c')"
   ]
  },
  {
   "cell_type": "code",
   "execution_count": null,
   "metadata": {},
   "outputs": [],
   "source": [
    "isKey(char_map, 'a')\n",
    "isKey(char_map, '9')"
   ]
  },
  {
   "cell_type": "code",
   "execution_count": null,
   "metadata": {},
   "outputs": [],
   "source": []
  }
 ],
 "metadata": {
  "kernelspec": {
   "display_name": "Octave",
   "language": "octave",
   "name": "octave"
  },
  "language_info": {
   "file_extension": ".m",
   "help_links": [
    {
     "text": "GNU Octave",
     "url": "https://www.gnu.org/software/octave/support.html"
    },
    {
     "text": "Octave Kernel",
     "url": "https://github.com/Calysto/octave_kernel"
    },
    {
     "text": "MetaKernel Magics",
     "url": "https://metakernel.readthedocs.io/en/latest/source/README.html"
    }
   ],
   "mimetype": "text/x-octave",
   "name": "octave",
   "version": "5.2.0"
  }
 },
 "nbformat": 4,
 "nbformat_minor": 4
}
