{
 "cells": [
  {
   "cell_type": "markdown",
   "metadata": {},
   "source": [
    "## 2. Feladatsor \n",
    "\n",
    "Fibonacci-számok:\n",
    "\n",
    "\\begin{align}\n",
    "F_0 &= 0 \\\\ \n",
    "F_1 &= 1 \\\\\n",
    "F_{n+2} &= F_{n} + F_{n+1} \\quad (n \\in \\mathbb{N})\n",
    "\\end{align}"
   ]
  },
  {
   "cell_type": "markdown",
   "metadata": {},
   "source": [
    "### 0.feladat: Egy kis ismétlés (ciklusok)\n",
    "\n",
    "Írjunk for-ciklus alapú függvényt $F_n$ kiszámítására."
   ]
  },
  {
   "cell_type": "code",
   "execution_count": null,
   "metadata": {},
   "outputs": [],
   "source": [
    "function b = fibonacci(n)\n",
    "\n",
    "end"
   ]
  },
  {
   "cell_type": "markdown",
   "metadata": {},
   "source": [
    "futásidő meghatározása"
   ]
  },
  {
   "cell_type": "code",
   "execution_count": null,
   "metadata": {},
   "outputs": [],
   "source": [
    "tic\n",
    "fibonacci(10)\n",
    "toc"
   ]
  },
  {
   "cell_type": "markdown",
   "metadata": {},
   "source": [
    "### 1.feladat: Rekurzió\n",
    "\n",
    "Írjunk rekurzív függvéynt $F_n$ kiszámítására."
   ]
  },
  {
   "cell_type": "code",
   "execution_count": null,
   "metadata": {},
   "outputs": [],
   "source": [
    "function fn = fibonacci(n)\n",
    "\n",
    "end"
   ]
  },
  {
   "cell_type": "code",
   "execution_count": null,
   "metadata": {},
   "outputs": [],
   "source": [
    "fibonacci(4)"
   ]
  },
  {
   "cell_type": "markdown",
   "metadata": {},
   "source": [
    "Vizsgáljuk meg, hogy hány függvényhívás történt. Milyen számsorozatot tapasztalunk? Mi ennek a magyarázata?"
   ]
  },
  {
   "cell_type": "code",
   "execution_count": null,
   "metadata": {},
   "outputs": [],
   "source": [
    "function counts = fibonacci_cc(n)\n",
    "\n",
    "end"
   ]
  },
  {
   "cell_type": "code",
   "execution_count": null,
   "metadata": {},
   "outputs": [],
   "source": [
    "fibonacci_cc(10)"
   ]
  },
  {
   "cell_type": "markdown",
   "metadata": {},
   "source": [
    "Ábrázoljuk a kapott számokat."
   ]
  },
  {
   "cell_type": "code",
   "execution_count": null,
   "metadata": {},
   "outputs": [],
   "source": [
    "plot(0:10, fibonacci_cc(10), 'o-'); hold on\n",
    "plot(0:11, fibonacci_cc(11), 'o-')"
   ]
  },
  {
   "cell_type": "markdown",
   "metadata": {},
   "source": [
    "Mentsük meg a rekurzív megoldást!"
   ]
  },
  {
   "cell_type": "code",
   "execution_count": null,
   "metadata": {},
   "outputs": [],
   "source": [
    "function fn = fibonacci_cached(n)\n",
    "\n",
    "end"
   ]
  },
  {
   "cell_type": "code",
   "execution_count": null,
   "metadata": {},
   "outputs": [],
   "source": [
    "tic\n",
    "fibonacci_cached(100)\n",
    "toc"
   ]
  },
  {
   "cell_type": "code",
   "execution_count": null,
   "metadata": {},
   "outputs": [],
   "source": [
    "function wrapped = simple_cacher(cache, fun)\n",
    "    \n",
    "    function r = wrapped_fun(n)\n",
    "        if isKey(n, cache)\n",
    "            r = cache(n);\n",
    "        else\n",
    "            r = fun(n);\n",
    "            cache(n) = r;\n",
    "        end\n",
    "    end\n",
    "    wrapped = @wrapped_fun;\n",
    "end"
   ]
  },
  {
   "cell_type": "code",
   "execution_count": null,
   "metadata": {},
   "outputs": [],
   "source": [
    "fibonacci_sc = simple_cacher(containers.Map('KeyType','int32','ValueType','int64'),\n",
    "                             @fibonacci)"
   ]
  },
  {
   "cell_type": "markdown",
   "metadata": {},
   "source": [
    "Talán egyszer..."
   ]
  },
  {
   "cell_type": "markdown",
   "metadata": {},
   "source": [
    "### 2.feladat: Mátrixok, zárt formula\n",
    "\n",
    "Számítsuk ki az $F_n$ értéket mátrixok segítségével."
   ]
  },
  {
   "cell_type": "code",
   "execution_count": null,
   "metadata": {},
   "outputs": [],
   "source": [
    "A = [1 1\n",
    "     1 0]\n",
    "x = [1\n",
    "     0]"
   ]
  },
  {
   "cell_type": "markdown",
   "metadata": {},
   "source": [
    "Diagonalizáljuk a megfelelő mátrixot, majd ebből vezessük le $F_n$ zárt képletét, végül írjunk programot, ami ezen képlet segitségével kiszámítja $F_n$ értékét."
   ]
  },
  {
   "cell_type": "code",
   "execution_count": null,
   "metadata": {},
   "outputs": [],
   "source": [
    "function fn = closedfib(n)\n",
    "\n",
    "end"
   ]
  },
  {
   "cell_type": "code",
   "execution_count": null,
   "metadata": {},
   "outputs": [],
   "source": [
    "tic\n",
    "closedfib(100)\n",
    "toc"
   ]
  }
 ],
 "metadata": {
  "kernelspec": {
   "display_name": "Octave",
   "language": "octave",
   "name": "octave"
  },
  "language_info": {
   "file_extension": ".m",
   "help_links": [
    {
     "text": "GNU Octave",
     "url": "https://www.gnu.org/software/octave/support.html"
    },
    {
     "text": "Octave Kernel",
     "url": "https://github.com/Calysto/octave_kernel"
    },
    {
     "text": "MetaKernel Magics",
     "url": "https://metakernel.readthedocs.io/en/latest/source/README.html"
    }
   ],
   "mimetype": "text/x-octave",
   "name": "octave",
   "version": "5.2.0"
  }
 },
 "nbformat": 4,
 "nbformat_minor": 4
}
