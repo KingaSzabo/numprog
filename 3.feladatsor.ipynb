{
 "cells": [
  {
   "cell_type": "markdown",
   "metadata": {},
   "source": [
    "## 3. Feladatsor \n",
    "\n",
    "vektorizáció"
   ]
  },
  {
   "cell_type": "markdown",
   "metadata": {},
   "source": [
    "#### 0. Feladat\n",
    "\n",
    "Írjunk függvényt $n!$ kiszámítására. Feltehetjük, hogy $n \\in \\mathbb{N}$."
   ]
  },
  {
   "cell_type": "markdown",
   "metadata": {},
   "source": [
    "a) Alkalmazzunk for-ciklust."
   ]
  },
  {
   "cell_type": "code",
   "execution_count": null,
   "metadata": {},
   "outputs": [],
   "source": [
    "function nf = factorial(n)\n",
    "\n",
    "end\n",
    "\n",
    "assert(factorial(5), 120)"
   ]
  },
  {
   "cell_type": "markdown",
   "metadata": {},
   "source": [
    "b) Vektorizáljunk."
   ]
  },
  {
   "cell_type": "code",
   "execution_count": null,
   "metadata": {},
   "outputs": [],
   "source": [
    "function nf = factorial(n)\n",
    "\n",
    "end\n",
    "\n",
    "assert(factorial(5), 120)"
   ]
  },
  {
   "cell_type": "markdown",
   "metadata": {},
   "source": [
    "#### 1.feladat: Vektornormák kiszámítása"
   ]
  },
  {
   "cell_type": "markdown",
   "metadata": {},
   "source": [
    "a) Írjunk for-ciklus alapú függvényt $\\|x\\|_2 = \\sqrt{\\sum_j x_j^2} $ kiszámítására."
   ]
  },
  {
   "cell_type": "code",
   "execution_count": null,
   "metadata": {},
   "outputs": [],
   "source": [
    "function r = norm2(x)\n",
    "\n",
    "end\n",
    "\n",
    "assert(norm2([3 4]), 5)\n",
    "%assert(norm2([.5 sqrt(3)/2]), 1)\n",
    "assert(norm2([.5 sqrt(3)/2]), 1, 1e-10)"
   ]
  },
  {
   "cell_type": "markdown",
   "metadata": {},
   "source": [
    "b) Oldjuk meg az előző feladatot beépített függvények segítségével, de a *norm* függvény használata nélkül."
   ]
  },
  {
   "cell_type": "code",
   "execution_count": null,
   "metadata": {},
   "outputs": [],
   "source": [
    "function r = norm2(x)\n",
    "\n",
    "end\n",
    "\n",
    "assert(norm2([3 4]), 5)\n",
    "assert(norm2([.5 sqrt(3)/2]), 1, 1e-10)"
   ]
  },
  {
   "cell_type": "markdown",
   "metadata": {},
   "source": [
    "#### 2.feladat: Kritériumnak megfelelő elemek leszámolása"
   ]
  },
  {
   "cell_type": "markdown",
   "metadata": {},
   "source": [
    "a) Írjunk for-ciklus alapú függvényt ami megszámolja, hogy egy vektorban hány páratlan szám áll."
   ]
  },
  {
   "cell_type": "code",
   "execution_count": null,
   "metadata": {},
   "outputs": [],
   "source": [
    "function k = countodd(x)\n",
    "\n",
    "end\n",
    "\n",
    "assert(countodd(1:10), 5)\n",
    "assert(countodd(-10:10), 10)"
   ]
  },
  {
   "cell_type": "markdown",
   "metadata": {},
   "source": [
    "a') Általánosítsuk előző megoldásunkat úgy, hogy a kritérium egy bemeneti paraméter legyen függvény formájában."
   ]
  },
  {
   "cell_type": "code",
   "execution_count": null,
   "metadata": {},
   "outputs": [],
   "source": [
    "function k = countif(x, condition)\n",
    "\n",
    "end\n",
    "\n",
    "assert(countif(1:10, @(x)(mod(x, 2) == 1)), countodd(1:10))\n",
    "assert(countif(-10:10, @(x)(mod(x, 2))), countodd(-10:10))"
   ]
  },
  {
   "cell_type": "markdown",
   "metadata": {},
   "source": [
    "b) Írjunk vektorizált alapon működő függvényt ami megszámolja, hogy egy vektorban hány páratlan szám áll."
   ]
  },
  {
   "cell_type": "code",
   "execution_count": null,
   "metadata": {},
   "outputs": [],
   "source": [
    "function k = countodd(x)\n",
    "\n",
    "end\n",
    "\n",
    "assert(countodd(1:10), 5)\n",
    "assert(countodd(-10:10), 10)"
   ]
  },
  {
   "cell_type": "markdown",
   "metadata": {},
   "source": [
    "b') Általánosítsuk előző megoldásunkat úgy, hogy a kritérium egy bemeneti paraméter legyen függvény formájában. Feltehetjük, hogy ezen függvény az adott vektorhoz egy olyan 0-1 vektort rendel, aminek az $i$. eleme pontosan akkor $1$, ha a bemeneti vektor $i$. elemére teljesül a feltétel."
   ]
  },
  {
   "cell_type": "code",
   "execution_count": null,
   "metadata": {},
   "outputs": [],
   "source": [
    "function k = countif(x, condition)\n",
    "\n",
    "end\n",
    "\n",
    "assert(countif(1:10, @(x)(mod(x, 2))), countodd(1:10))\n",
    "assert(countif(-10:10, @(x)(mod(x, 2))), countodd(-10:10))"
   ]
  },
  {
   "cell_type": "markdown",
   "metadata": {},
   "source": [
    "b'') Az előző feladat, de a kritériumnak egyszerre csak egy elemet adhatunk."
   ]
  },
  {
   "cell_type": "code",
   "execution_count": null,
   "metadata": {},
   "outputs": [],
   "source": [
    "function k = countif(x, condition)\n",
    "\n",
    "end\n",
    "\n",
    "assert(countif(1:10, @(x)(~mod(x, 2))), 10-countodd(1:10))\n",
    "assert(countif(-10:10, @(x)(1 - mod(x, 2))), 21-countodd(-10:10))"
   ]
  },
  {
   "cell_type": "markdown",
   "metadata": {},
   "source": [
    "#### 3. Feladat\n",
    "\n",
    "Azt mondjuk, hogy egy mátrix duplán sztochasztikus, ha elemei nemnegatívak, továbbá minden sor és oszlop összege $1$.\n",
    "\n",
    "Tekintsük az alábbi $t$ tulajdonságokat:\n",
    "\n",
    "  1. duplán sztochasztikus,\n",
    "  2. ortogonális,\n",
    "  3. szimmetrikus,\n",
    "  4. alsó/felső háromszög.\n",
    "\n",
    "a) Írjunk for-ciklus alapú függvényt ami eldönti, hogy egy mátrixra igaz-e a $t$ tulajdonság."
   ]
  },
  {
   "cell_type": "code",
   "execution_count": null,
   "metadata": {},
   "outputs": [],
   "source": []
  },
  {
   "cell_type": "markdown",
   "metadata": {},
   "source": [
    "b) Ugyanez, ciklusok nélkül."
   ]
  },
  {
   "cell_type": "code",
   "execution_count": null,
   "metadata": {},
   "outputs": [],
   "source": []
  },
  {
   "cell_type": "markdown",
   "metadata": {},
   "source": [
    "#### 4. Feladat\n",
    "\n",
    "Szomszédsági mátrix alapján döntsük el, hogy hány éle van egy gráfnak. Feltehetjük, hogy a gráf irányítatlan, továbbá, hogy nincsenek se többszörös, se hurokélek\n",
    "\n",
    "a) Használjunk for-ciklusokat."
   ]
  },
  {
   "cell_type": "code",
   "execution_count": null,
   "metadata": {},
   "outputs": [],
   "source": []
  },
  {
   "cell_type": "markdown",
   "metadata": {},
   "source": [
    "b) Dolgozzunk ciklusok nélkül."
   ]
  },
  {
   "cell_type": "code",
   "execution_count": null,
   "metadata": {},
   "outputs": [],
   "source": []
  }
 ],
 "metadata": {
  "kernelspec": {
   "display_name": "Octave",
   "language": "octave",
   "name": "octave"
  },
  "language_info": {
   "file_extension": ".m",
   "help_links": [
    {
     "text": "GNU Octave",
     "url": "https://www.gnu.org/software/octave/support.html"
    },
    {
     "text": "Octave Kernel",
     "url": "https://github.com/Calysto/octave_kernel"
    },
    {
     "text": "MetaKernel Magics",
     "url": "https://metakernel.readthedocs.io/en/latest/source/README.html"
    }
   ],
   "mimetype": "text/x-octave",
   "name": "octave",
   "version": "5.2.0"
  }
 },
 "nbformat": 4,
 "nbformat_minor": 4
}
