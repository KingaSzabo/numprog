{
 "cells": [
  {
   "cell_type": "markdown",
   "metadata": {},
   "source": [
    "## 1. Feladatsor"
   ]
  },
  {
   "cell_type": "markdown",
   "metadata": {},
   "source": [
    "### 1.feladat: Az interaktív konzol \n",
    "MATLAB mint számológép\n",
    "\n",
    "#### Próbáljuk ki a különböző alapműveleteket."
   ]
  },
  {
   "cell_type": "code",
   "execution_count": null,
   "metadata": {},
   "outputs": [],
   "source": [
    "1+2\n",
    "1.5 * 3\n",
    "2/3\n",
    "3^2\n",
    "mod(10, 3)\n",
    "idivide(10, 3)\n",
    "~1"
   ]
  },
  {
   "cell_type": "markdown",
   "metadata": {},
   "source": [
    "#### Hasonlítsunk össze két értéket."
   ]
  },
  {
   "cell_type": "code",
   "execution_count": null,
   "metadata": {},
   "outputs": [],
   "source": [
    "1 == 1\n",
    "1 == 2\n",
    "\n",
    "1 ~= 1\n",
    "1 ~= 2.5"
   ]
  },
  {
   "cell_type": "code",
   "execution_count": null,
   "metadata": {},
   "outputs": [],
   "source": [
    "1 < 2\n",
    "1 <= 1"
   ]
  },
  {
   "cell_type": "markdown",
   "metadata": {},
   "source": [
    "####  Használjunk logikai műveleteket."
   ]
  },
  {
   "cell_type": "code",
   "execution_count": null,
   "metadata": {},
   "outputs": [],
   "source": [
    "(1 == 1) && (2 == 2)\n",
    "(mod(10, 2) == 0) || (mod(10,2) == 1)"
   ]
  },
  {
   "cell_type": "markdown",
   "metadata": {},
   "source": [
    "####  Változók, értékadás."
   ]
  },
  {
   "cell_type": "code",
   "execution_count": null,
   "metadata": {},
   "outputs": [],
   "source": [
    "valtozo_nev = \"ertek\"\n",
    "x = 2\n",
    "x += 2 % -=, *=, /=, ..."
   ]
  },
  {
   "cell_type": "markdown",
   "metadata": {},
   "source": [
    "####  Definiáljunk vektorokat, mátrixokat."
   ]
  },
  {
   "cell_type": "code",
   "execution_count": null,
   "metadata": {},
   "outputs": [],
   "source": [
    "A = [1 0;\n",
    "     0 1]\n",
    "\n",
    "oszlop_b = [1; 1]\n",
    "sor_b = [1, 1]\n",
    "b = oszlop_b;"
   ]
  },
  {
   "cell_type": "code",
   "execution_count": null,
   "metadata": {},
   "outputs": [],
   "source": [
    "% Indexing\n",
    "b(1)\n",
    "\n",
    "[1,2,3,4,5](2:3)\n",
    "[1,2,3,4,5](1:2:end)"
   ]
  },
  {
   "cell_type": "code",
   "execution_count": null,
   "metadata": {},
   "outputs": [],
   "source": [
    "A(1:2, 1:2)\n",
    "A(2,2)\n",
    "A(:)'"
   ]
  },
  {
   "cell_type": "markdown",
   "metadata": {},
   "source": [
    "#### Próbáljunk ki néhány vektorműveletet."
   ]
  },
  {
   "cell_type": "code",
   "execution_count": null,
   "metadata": {},
   "outputs": [],
   "source": [
    "A *= 2\n",
    "b\n",
    "b - 3\n",
    "\n",
    "b .* [5; 2]\n",
    "b ./ [5; pi]\n",
    "\n",
    "A * b\n",
    "A \\ b"
   ]
  },
  {
   "cell_type": "markdown",
   "metadata": {},
   "source": [
    "#### Dolgozzunk komplex számokkal."
   ]
  },
  {
   "cell_type": "code",
   "execution_count": null,
   "metadata": {},
   "outputs": [],
   "source": [
    "(0+1i) * 1i\n",
    "abs(1i)\n",
    "real(3+4i)\n",
    "imag(3+4i)"
   ]
  },
  {
   "cell_type": "markdown",
   "metadata": {},
   "source": [
    "#### További hasznos beépített függvények, utasítások."
   ]
  },
  {
   "cell_type": "code",
   "execution_count": null,
   "metadata": {},
   "outputs": [],
   "source": [
    "c = 1:10"
   ]
  },
  {
   "cell_type": "code",
   "execution_count": null,
   "metadata": {},
   "outputs": [],
   "source": [
    "1:2:10"
   ]
  },
  {
   "cell_type": "code",
   "execution_count": null,
   "metadata": {},
   "outputs": [],
   "source": [
    "0:.5:2\n",
    "linspace(0, 2, 5)"
   ]
  },
  {
   "cell_type": "code",
   "execution_count": null,
   "metadata": {},
   "outputs": [],
   "source": [
    "ndims(c)\n",
    "numel(c)"
   ]
  },
  {
   "cell_type": "code",
   "execution_count": null,
   "metadata": {},
   "outputs": [],
   "source": [
    "size(c)\n",
    "[n, m] = size(c)"
   ]
  },
  {
   "cell_type": "code",
   "execution_count": null,
   "metadata": {},
   "outputs": [],
   "source": [
    "sum(c)\n",
    "prod(c)"
   ]
  },
  {
   "cell_type": "code",
   "execution_count": null,
   "metadata": {},
   "outputs": [],
   "source": [
    "all([1,1,1])\n",
    "all([0,1,1])"
   ]
  },
  {
   "cell_type": "code",
   "execution_count": null,
   "metadata": {},
   "outputs": [],
   "source": [
    "any([0,0,0])\n",
    "any([0,1,0])"
   ]
  },
  {
   "cell_type": "code",
   "execution_count": null,
   "metadata": {},
   "outputs": [],
   "source": [
    "zeros(2)\n",
    "ones(2,3)"
   ]
  },
  {
   "cell_type": "code",
   "execution_count": null,
   "metadata": {},
   "outputs": [],
   "source": [
    "eye(2)\n",
    "diag([1,2,3])"
   ]
  },
  {
   "cell_type": "code",
   "execution_count": null,
   "metadata": {},
   "outputs": [],
   "source": [
    "A=[1 0 0; \n",
    "   0 2 0;\n",
    "   0 0 1];\n",
    "   \n",
    "trace(A)\n",
    "det(A)"
   ]
  },
  {
   "cell_type": "code",
   "execution_count": null,
   "metadata": {},
   "outputs": [],
   "source": [
    "lam = eig(A)\n",
    "[V, LAMBDA] = eig(A)"
   ]
  },
  {
   "cell_type": "code",
   "execution_count": null,
   "metadata": {},
   "outputs": [],
   "source": [
    "diag(LAMBDA)\n",
    "\n",
    "diag(diag(LAMBDA))\n",
    "\n",
    "all(all(diag(diag(LAMBDA)) == LAMBDA))"
   ]
  },
  {
   "cell_type": "code",
   "execution_count": null,
   "metadata": {},
   "outputs": [],
   "source": [
    "% help eig"
   ]
  },
  {
   "cell_type": "markdown",
   "metadata": {},
   "source": [
    "### 2.feladat: Egy kis programozás\n",
    "MATLAB mint programnyelv (csak az alapok, példákon keresztül)"
   ]
  },
  {
   "cell_type": "markdown",
   "metadata": {},
   "source": [
    "#### Függvények"
   ]
  },
  {
   "cell_type": "code",
   "execution_count": null,
   "metadata": {},
   "outputs": [],
   "source": [
    "function r = add_(x, y)\n",
    "    r = x+y;\n",
    "end"
   ]
  },
  {
   "cell_type": "code",
   "execution_count": null,
   "metadata": {},
   "outputs": [],
   "source": [
    "add_(2, 3)"
   ]
  },
  {
   "cell_type": "code",
   "execution_count": null,
   "metadata": {},
   "outputs": [],
   "source": [
    "function visszateresi_valtozo = fuggveny_neve(parameter1, parameter2)\n",
    "\n",
    "end %endfunction"
   ]
  },
  {
   "cell_type": "code",
   "execution_count": null,
   "metadata": {},
   "outputs": [],
   "source": [
    "% anonim fgv. \n",
    "@(x)(x+2)\n",
    "arrayfun(@(x)(x+2), [1,2,3])"
   ]
  },
  {
   "cell_type": "markdown",
   "metadata": {},
   "source": [
    "#### Elágazások"
   ]
  },
  {
   "cell_type": "code",
   "execution_count": null,
   "metadata": {},
   "outputs": [],
   "source": [
    "function s = if_else_pelda(x)\n",
    "    if (x == 0)\n",
    "       s = \"0\";\n",
    "    elseif (x == 1)\n",
    "       s = \"1\";\n",
    "    elseif (x == 2)\n",
    "       s = \"2\";\n",
    "    else\n",
    "       s = \"?\";\n",
    "    end\n",
    "end\n",
    "if_else_pelda(0)\n",
    "if_else_pelda(1)\n",
    "if_else_pelda(2)\n",
    "if_else_pelda(42)"
   ]
  },
  {
   "cell_type": "code",
   "execution_count": null,
   "metadata": {},
   "outputs": [],
   "source": [
    "function s = if_else_pelda2(x)\n",
    "    if ismember(x, [0,1,2])\n",
    "        s = int2str(x);\n",
    "    else\n",
    "        s = \"?\";\n",
    "    end\n",
    "end\n",
    "if_else_pelda2(0)\n",
    "if_else_pelda2(1)\n",
    "if_else_pelda2(2)\n",
    "if_else_pelda2(42)"
   ]
  },
  {
   "cell_type": "markdown",
   "metadata": {},
   "source": [
    "#### Ciklusok"
   ]
  },
  {
   "cell_type": "code",
   "execution_count": null,
   "metadata": {},
   "outputs": [],
   "source": [
    "for v=3:5\n",
    "   v\n",
    "end"
   ]
  },
  {
   "cell_type": "code",
   "execution_count": null,
   "metadata": {},
   "outputs": [],
   "source": [
    "arr = 3:5\n",
    "for v=arr\n",
    "   v\n",
    "end\n",
    "\n",
    "for ix=1:numel(arr)\n",
    "   arr(ix)\n",
    "end"
   ]
  },
  {
   "cell_type": "code",
   "execution_count": null,
   "metadata": {},
   "outputs": [],
   "source": [
    "ix = 1;\n",
    "while ix <= numel(arr)\n",
    "  arr(ix)\n",
    "  ix += 1\n",
    "end"
   ]
  },
  {
   "cell_type": "code",
   "execution_count": null,
   "metadata": {},
   "outputs": [],
   "source": [
    "A = magic(2)\n",
    "[m,n] = size(A);\n",
    "\n",
    "for i=1:m\n",
    "    for j=1:n\n",
    "       A(i,j)\n",
    "    end\n",
    "end"
   ]
  },
  {
   "cell_type": "markdown",
   "metadata": {},
   "source": [
    "### 3.feladat: Sajátérték-e a 0?\n",
    "\n",
    "Az eddigiek felhasználásával irjunk olyan mátrix bemenetű függvényt, ami eldönti, hogy a bemenetnek a 0 sajátértéke-e. Próbáljuk meg először ciklussal, majd anélkül."
   ]
  },
  {
   "cell_type": "code",
   "execution_count": null,
   "metadata": {},
   "outputs": [],
   "source": [
    "function zero_is_eig = is_zero_eigenvalue(A)\n",
    "\n",
    "endfunction\n",
    "\n",
    "is_zero_eigenvalue(ones(2))\n",
    "is_zero_eigenvalue(eye(2))"
   ]
  },
  {
   "cell_type": "code",
   "execution_count": null,
   "metadata": {},
   "outputs": [],
   "source": [
    "eigs(ones(2))\n",
    "eigs(eye(2))"
   ]
  },
  {
   "cell_type": "markdown",
   "metadata": {},
   "source": [
    "### 4.feladat: Sajátérték-e?\n",
    "\n",
    "Az előző feladat megoldását általánosítsuk úgy, hogy a 0 helyett más számról is el lehessen dönteni, hogy sajátérték-e."
   ]
  },
  {
   "cell_type": "code",
   "execution_count": null,
   "metadata": {},
   "outputs": [],
   "source": [
    "function lam_is_eig = is_eigenvalue(A, lam)\n",
    "    % ...\n",
    "endfunction"
   ]
  }
 ],
 "metadata": {
  "kernelspec": {
   "display_name": "Octave",
   "language": "octave",
   "name": "octave"
  },
  "language_info": {
   "file_extension": ".m",
   "help_links": [
    {
     "text": "GNU Octave",
     "url": "https://www.gnu.org/software/octave/support.html"
    },
    {
     "text": "Octave Kernel",
     "url": "https://github.com/Calysto/octave_kernel"
    },
    {
     "text": "MetaKernel Magics",
     "url": "https://metakernel.readthedocs.io/en/latest/source/README.html"
    }
   ],
   "mimetype": "text/x-octave",
   "name": "octave",
   "version": "5.2.0"
  }
 },
 "nbformat": 4,
 "nbformat_minor": 4
}
