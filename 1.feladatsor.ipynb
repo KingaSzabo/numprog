{
 "cells": [
  {
   "cell_type": "markdown",
   "metadata": {},
   "source": [
    "## 1. Feladatsor"
   ]
  },
  {
   "cell_type": "markdown",
   "metadata": {},
   "source": [
    "### 1.feladat: Az interaktív konzol \n",
    "MATLAB mint számológép\n",
    "\n",
    "#### Próbáljuk ki a különböző alapműveleteket."
   ]
  },
  {
   "cell_type": "code",
   "execution_count": 1,
   "metadata": {},
   "outputs": [
    {
     "name": "stdout",
     "output_type": "stream",
     "text": [
      "ans =  3\n",
      "ans =  4.5000\n",
      "ans =  0.66667\n",
      "ans =  9\n",
      "ans =  1\n",
      "ans =  3\n",
      "ans = 0\n",
      "ans = 1\n"
     ]
    }
   ],
   "source": [
    "1+2\n",
    "1.5 * 3\n",
    "2/3\n",
    "3^2\n",
    "mod(10, 3)\n",
    "idivide(10, 3)\n",
    "~1\n",
    "~0"
   ]
  },
  {
   "cell_type": "markdown",
   "metadata": {},
   "source": [
    "#### Hasonlítsunk össze két értéket."
   ]
  },
  {
   "cell_type": "code",
   "execution_count": 2,
   "metadata": {},
   "outputs": [
    {
     "name": "stdout",
     "output_type": "stream",
     "text": [
      "ans = 1\n",
      "ans = 0\n",
      "ans = 0\n",
      "ans = 1\n"
     ]
    }
   ],
   "source": [
    "1 == 1\n",
    "1 == 2\n",
    "\n",
    "1 ~= 1\n",
    "1 ~= 2.5"
   ]
  },
  {
   "cell_type": "code",
   "execution_count": 3,
   "metadata": {},
   "outputs": [
    {
     "name": "stdout",
     "output_type": "stream",
     "text": [
      "ans = 1\n",
      "ans = 1\n"
     ]
    }
   ],
   "source": [
    "1 < 2\n",
    "1 <= 1"
   ]
  },
  {
   "cell_type": "markdown",
   "metadata": {},
   "source": [
    "####  Használjunk logikai műveleteket."
   ]
  },
  {
   "cell_type": "code",
   "execution_count": 4,
   "metadata": {},
   "outputs": [
    {
     "name": "stdout",
     "output_type": "stream",
     "text": [
      "ans = 1\n",
      "ans = 1\n"
     ]
    }
   ],
   "source": [
    "(1 == 1) && (2 == 2)\n",
    "(mod(10, 2) == 0) || (mod(10,2) == 1)"
   ]
  },
  {
   "cell_type": "markdown",
   "metadata": {},
   "source": [
    "####  Változók, értékadás."
   ]
  },
  {
   "cell_type": "code",
   "execution_count": 5,
   "metadata": {},
   "outputs": [
    {
     "name": "stdout",
     "output_type": "stream",
     "text": [
      "valtozo_nev = ertek\n",
      "x =  2\n",
      "x =  4\n",
      "x =  6\n"
     ]
    }
   ],
   "source": [
    "valtozo_nev = \"ertek\"\n",
    "x = 2\n",
    "x += 2 % -=, *=, /=, ...\n",
    "x = x + 2"
   ]
  },
  {
   "cell_type": "markdown",
   "metadata": {},
   "source": [
    "####  Definiáljunk vektorokat, mátrixokat."
   ]
  },
  {
   "cell_type": "code",
   "execution_count": 6,
   "metadata": {},
   "outputs": [
    {
     "name": "stdout",
     "output_type": "stream",
     "text": [
      "A =\n",
      "\n",
      "   1   0\n",
      "   0   1\n",
      "\n",
      "oszlop_b =\n",
      "\n",
      "   1\n",
      "   1\n",
      "\n",
      "sor_b =\n",
      "\n",
      "   1   1\n",
      "\n"
     ]
    }
   ],
   "source": [
    "A = [1 0;\n",
    "     0 1]\n",
    "\n",
    "oszlop_b = [1; 1]\n",
    "sor_b = [1, 1]\n",
    "b = oszlop_b;"
   ]
  },
  {
   "cell_type": "code",
   "execution_count": 7,
   "metadata": {},
   "outputs": [
    {
     "name": "stdout",
     "output_type": "stream",
     "text": [
      "ans =\n",
      "\n",
      "   1   1\n",
      "\n"
     ]
    }
   ],
   "source": [
    "oszlop_b'"
   ]
  },
  {
   "cell_type": "code",
   "execution_count": 8,
   "metadata": {},
   "outputs": [
    {
     "name": "stdout",
     "output_type": "stream",
     "text": [
      "ans =  1\n",
      "ans =\n",
      "\n",
      "   2   3\n",
      "\n",
      "ans =\n",
      "\n",
      "   1   3   5\n",
      "\n"
     ]
    }
   ],
   "source": [
    "% Indexing\n",
    "b(1)\n",
    "\n",
    "[1,2,3,4,5](2:3)\n",
    "[1,2,3,4,5](1:2:end)"
   ]
  },
  {
   "cell_type": "code",
   "execution_count": 9,
   "metadata": {},
   "outputs": [
    {
     "name": "stdout",
     "output_type": "stream",
     "text": [
      "ans =\n",
      "\n",
      "   1   0\n",
      "   0   1\n",
      "\n",
      "ans =  1\n",
      "ans =\n",
      "\n",
      "   1   0   0   1\n",
      "\n"
     ]
    }
   ],
   "source": [
    "A(1:2, 1:2)\n",
    "A(2,2)\n",
    "A(:)'"
   ]
  },
  {
   "cell_type": "markdown",
   "metadata": {},
   "source": [
    "#### Próbáljunk ki néhány vektorműveletet."
   ]
  },
  {
   "cell_type": "code",
   "execution_count": 10,
   "metadata": {},
   "outputs": [
    {
     "name": "stdout",
     "output_type": "stream",
     "text": [
      "A =\n",
      "\n",
      "   2   0\n",
      "   0   2\n",
      "\n",
      "b =\n",
      "\n",
      "   1\n",
      "   1\n",
      "\n",
      "ans =\n",
      "\n",
      "  -2\n",
      "  -2\n",
      "\n",
      "ans =\n",
      "\n",
      "   5\n",
      "   2\n",
      "\n",
      "ans =\n",
      "\n",
      "   0.20000\n",
      "   0.31831\n",
      "\n",
      "ans =\n",
      "\n",
      "   2\n",
      "   2\n",
      "\n",
      "ans =\n",
      "\n",
      "   0.50000\n",
      "   0.50000\n",
      "\n"
     ]
    }
   ],
   "source": [
    "A *= 2\n",
    "b\n",
    "b - 3\n",
    "\n",
    "b .* [5; 2]\n",
    "b ./ [5; pi]\n",
    "\n",
    "A * b\n",
    "A \\ b"
   ]
  },
  {
   "cell_type": "markdown",
   "metadata": {},
   "source": [
    "#### Dolgozzunk komplex számokkal."
   ]
  },
  {
   "cell_type": "code",
   "execution_count": 11,
   "metadata": {},
   "outputs": [
    {
     "name": "stdout",
     "output_type": "stream",
     "text": [
      "ans = -1\n",
      "ans =  1\n",
      "ans =  3\n",
      "ans =  4\n"
     ]
    }
   ],
   "source": [
    "(0+1i) * 1i\n",
    "abs(1i)\n",
    "real(3+4i)\n",
    "imag(3+4i)"
   ]
  },
  {
   "cell_type": "markdown",
   "metadata": {},
   "source": [
    "#### További hasznos beépített függvények, utasítások."
   ]
  },
  {
   "cell_type": "code",
   "execution_count": 12,
   "metadata": {},
   "outputs": [
    {
     "name": "stdout",
     "output_type": "stream",
     "text": [
      "c =\n",
      "\n",
      "    1    2    3    4    5    6    7    8    9   10\n",
      "\n"
     ]
    }
   ],
   "source": [
    "c = 1:10"
   ]
  },
  {
   "cell_type": "code",
   "execution_count": 13,
   "metadata": {},
   "outputs": [
    {
     "name": "stdout",
     "output_type": "stream",
     "text": [
      "ans =\n",
      "\n",
      "   1   3   5   7   9\n",
      "\n"
     ]
    }
   ],
   "source": [
    "1:2:10"
   ]
  },
  {
   "cell_type": "code",
   "execution_count": 14,
   "metadata": {},
   "outputs": [
    {
     "name": "stdout",
     "output_type": "stream",
     "text": [
      "ans =\n",
      "\n",
      "    0.00000    0.50000    1.00000    1.50000    2.00000\n",
      "\n",
      "ans =\n",
      "\n",
      "   0.00000   0.50000   1.00000   1.50000   2.00000\n",
      "\n"
     ]
    }
   ],
   "source": [
    "0:.5:2\n",
    "linspace(0, 2, 5)"
   ]
  },
  {
   "cell_type": "code",
   "execution_count": 15,
   "metadata": {},
   "outputs": [
    {
     "name": "stdout",
     "output_type": "stream",
     "text": [
      "ans =  2\n",
      "ans =  10\n"
     ]
    }
   ],
   "source": [
    "ndims(c)\n",
    "numel(c)"
   ]
  },
  {
   "cell_type": "code",
   "execution_count": 16,
   "metadata": {},
   "outputs": [
    {
     "name": "stdout",
     "output_type": "stream",
     "text": [
      "ans =\n",
      "\n",
      "    1   10\n",
      "\n",
      "n =  1\n",
      "m =  10\n"
     ]
    }
   ],
   "source": [
    "size(c)\n",
    "[n, m] = size(c)"
   ]
  },
  {
   "cell_type": "code",
   "execution_count": 17,
   "metadata": {},
   "outputs": [
    {
     "name": "stdout",
     "output_type": "stream",
     "text": [
      "ans =  55\n",
      "ans =  3628800\n"
     ]
    }
   ],
   "source": [
    "sum(c)\n",
    "prod(c)"
   ]
  },
  {
   "cell_type": "code",
   "execution_count": 18,
   "metadata": {},
   "outputs": [
    {
     "name": "stdout",
     "output_type": "stream",
     "text": [
      "ans =\n",
      "\n",
      "    1    2    3    4    5    6    7    8    9   10\n",
      "\n"
     ]
    }
   ],
   "source": [
    "abs((-1)*c)"
   ]
  },
  {
   "cell_type": "code",
   "execution_count": 19,
   "metadata": {},
   "outputs": [
    {
     "name": "stdout",
     "output_type": "stream",
     "text": [
      "ans = 1\n",
      "ans = 0\n"
     ]
    }
   ],
   "source": [
    "all(2*[1,1,1])\n",
    "all([0,1,1])"
   ]
  },
  {
   "cell_type": "code",
   "execution_count": 20,
   "metadata": {},
   "outputs": [
    {
     "name": "stdout",
     "output_type": "stream",
     "text": [
      "ans = 0\n",
      "ans = 1\n"
     ]
    }
   ],
   "source": [
    "any([0,0,0])\n",
    "any([0,1,0])"
   ]
  },
  {
   "cell_type": "code",
   "execution_count": 21,
   "metadata": {},
   "outputs": [
    {
     "name": "stdout",
     "output_type": "stream",
     "text": [
      "ans =\n",
      "\n",
      "   0   0\n",
      "   0   0\n",
      "\n",
      "ans =\n",
      "\n",
      "   1   1   1\n",
      "   1   1   1\n",
      "\n"
     ]
    }
   ],
   "source": [
    "zeros(2)\n",
    "ones(2,3)"
   ]
  },
  {
   "cell_type": "code",
   "execution_count": 22,
   "metadata": {},
   "outputs": [
    {
     "name": "stdout",
     "output_type": "stream",
     "text": [
      "ans =\n",
      "\n",
      "Diagonal Matrix\n",
      "\n",
      "   1   0\n",
      "   0   1\n",
      "\n",
      "ans =\n",
      "\n",
      "Diagonal Matrix\n",
      "\n",
      "   1   0   0\n",
      "   0   2   0\n",
      "   0   0   3\n",
      "\n"
     ]
    }
   ],
   "source": [
    "eye(2)\n",
    "diag([1,2,3])"
   ]
  },
  {
   "cell_type": "code",
   "execution_count": 23,
   "metadata": {},
   "outputs": [
    {
     "name": "stdout",
     "output_type": "stream",
     "text": [
      "ans =  4\n",
      "ans =  2\n"
     ]
    }
   ],
   "source": [
    "A=[1 0 0; \n",
    "   0 2 0;\n",
    "   0 0 1];\n",
    "   \n",
    "trace(A)\n",
    "det(A)"
   ]
  },
  {
   "cell_type": "code",
   "execution_count": 24,
   "metadata": {},
   "outputs": [
    {
     "name": "stdout",
     "output_type": "stream",
     "text": [
      "lam =\n",
      "\n",
      "   1\n",
      "   1\n",
      "   2\n",
      "\n",
      "V =\n",
      "\n",
      "   1   0   0\n",
      "   0   0   1\n",
      "   0   1   0\n",
      "\n",
      "LAMBDA =\n",
      "\n",
      "Diagonal Matrix\n",
      "\n",
      "   1   0   0\n",
      "   0   1   0\n",
      "   0   0   2\n",
      "\n"
     ]
    }
   ],
   "source": [
    "lam = eig(A)\n",
    "[V, LAMBDA] = eig(A)"
   ]
  },
  {
   "cell_type": "code",
   "execution_count": 25,
   "metadata": {},
   "outputs": [
    {
     "name": "stdout",
     "output_type": "stream",
     "text": [
      "ans =\n",
      "\n",
      "   1\n",
      "   1\n",
      "   2\n",
      "\n",
      "ans =\n",
      "\n",
      "Diagonal Matrix\n",
      "\n",
      "   1   0   0\n",
      "   0   1   0\n",
      "   0   0   2\n",
      "\n",
      "ans =\n",
      "\n",
      "  1  1  1\n",
      "  1  1  1\n",
      "  1  1  1\n",
      "\n",
      "ans =\n",
      "\n",
      "  1  1  1\n",
      "\n",
      "ans = 1\n"
     ]
    }
   ],
   "source": [
    "diag(LAMBDA)\n",
    "\n",
    "diag(diag(LAMBDA))\n",
    "\n",
    "diag(diag(LAMBDA)) == LAMBDA\n",
    "\n",
    "all(diag(diag(LAMBDA)) == LAMBDA)\n",
    "\n",
    "all(all(diag(diag(LAMBDA)) == LAMBDA))"
   ]
  },
  {
   "cell_type": "code",
   "execution_count": null,
   "metadata": {},
   "outputs": [],
   "source": [
    "help eig"
   ]
  },
  {
   "cell_type": "markdown",
   "metadata": {},
   "source": [
    "### 2.feladat: Egy kis programozás\n",
    "MATLAB mint programnyelv (csak az alapok, példákon keresztül)"
   ]
  },
  {
   "cell_type": "markdown",
   "metadata": {},
   "source": [
    "#### Függvények"
   ]
  },
  {
   "cell_type": "code",
   "execution_count": 27,
   "metadata": {},
   "outputs": [],
   "source": [
    "function r = add_(x, y)\n",
    "    r = x+y;\n",
    "end"
   ]
  },
  {
   "cell_type": "code",
   "execution_count": 28,
   "metadata": {},
   "outputs": [
    {
     "name": "stdout",
     "output_type": "stream",
     "text": [
      "x =  5\n"
     ]
    }
   ],
   "source": [
    "x = add_(2, 3)"
   ]
  },
  {
   "cell_type": "code",
   "execution_count": 29,
   "metadata": {},
   "outputs": [
    {
     "name": "stdout",
     "output_type": "stream",
     "text": [
      "n =  3\n",
      "m =  3\n"
     ]
    }
   ],
   "source": [
    "[n, m] = size(A)"
   ]
  },
  {
   "cell_type": "code",
   "execution_count": 30,
   "metadata": {},
   "outputs": [],
   "source": [
    "function visszateresi_valtozo = fuggveny_neve(parameter1, parameter2)\n",
    "\n",
    "end %endfunction"
   ]
  },
  {
   "cell_type": "code",
   "execution_count": 31,
   "metadata": {},
   "outputs": [
    {
     "name": "stdout",
     "output_type": "stream",
     "text": [
      "ans =\n",
      "\n",
      "@(x) (x + 2)\n",
      "\n",
      "ans =\n",
      "\n",
      "   3   4   5\n",
      "\n"
     ]
    }
   ],
   "source": [
    "% anonim fgv. \n",
    "@(x)(x+2)\n",
    "arrayfun(@(x)(x+2), [1,2,3])"
   ]
  },
  {
   "cell_type": "markdown",
   "metadata": {},
   "source": [
    "#### Elágazások"
   ]
  },
  {
   "cell_type": "code",
   "execution_count": 32,
   "metadata": {},
   "outputs": [
    {
     "name": "stdout",
     "output_type": "stream",
     "text": [
      "ans = 0\n",
      "ans = 1\n",
      "ans = 2\n",
      "ans = ?\n"
     ]
    }
   ],
   "source": [
    "function s = if_else_pelda(x)\n",
    "    if (x == 0)\n",
    "       s = \"0\";\n",
    "    elseif (x == 1)\n",
    "       s = \"1\";\n",
    "    elseif (x == 2)\n",
    "       s = \"2\";\n",
    "    else\n",
    "       s = \"?\";\n",
    "    end\n",
    "end\n",
    "if_else_pelda(0)\n",
    "if_else_pelda(1)\n",
    "if_else_pelda(2)\n",
    "if_else_pelda(42)"
   ]
  },
  {
   "cell_type": "code",
   "execution_count": 33,
   "metadata": {},
   "outputs": [
    {
     "name": "stdout",
     "output_type": "stream",
     "text": [
      "ans = 0\n",
      "ans = 1\n",
      "ans = 2\n",
      "ans = ?\n"
     ]
    }
   ],
   "source": [
    "function s = if_else_pelda2(x)\n",
    "    if ismember(x, [0,1,2])\n",
    "        s = int2str(x);\n",
    "    else\n",
    "        s = \"?\";\n",
    "    end\n",
    "end\n",
    "if_else_pelda2(0)\n",
    "if_else_pelda2(1)\n",
    "if_else_pelda2(2)\n",
    "if_else_pelda2(42)"
   ]
  },
  {
   "cell_type": "markdown",
   "metadata": {},
   "source": [
    "#### Ciklusok"
   ]
  },
  {
   "cell_type": "code",
   "execution_count": 34,
   "metadata": {},
   "outputs": [
    {
     "name": "stdout",
     "output_type": "stream",
     "text": [
      "ans =\n",
      "\n",
      "   3   4   5\n",
      "\n"
     ]
    }
   ],
   "source": [
    "3:5"
   ]
  },
  {
   "cell_type": "code",
   "execution_count": 35,
   "metadata": {},
   "outputs": [
    {
     "name": "stdout",
     "output_type": "stream",
     "text": [
      "v =  3\n",
      "v =  4\n",
      "v =  5\n"
     ]
    }
   ],
   "source": [
    "for v=3:5\n",
    "   v\n",
    "end"
   ]
  },
  {
   "cell_type": "code",
   "execution_count": 36,
   "metadata": {},
   "outputs": [
    {
     "name": "stdout",
     "output_type": "stream",
     "text": [
      "arr =\n",
      "\n",
      "   3   4   5\n",
      "\n",
      "v =  3\n",
      "v =  4\n",
      "v =  5\n",
      "ix =  1\n",
      "ans =  3\n",
      "ix =  2\n",
      "ans =  4\n",
      "ix =  3\n",
      "ans =  5\n"
     ]
    }
   ],
   "source": [
    "arr = 3:5\n",
    "for v=arr\n",
    "   v\n",
    "end\n",
    "\n",
    "for ix=1:numel(arr)\n",
    "   ix\n",
    "   arr(ix)\n",
    "end"
   ]
  },
  {
   "cell_type": "code",
   "execution_count": 37,
   "metadata": {},
   "outputs": [
    {
     "name": "stdout",
     "output_type": "stream",
     "text": [
      "ans =  3\n",
      "ix =  2\n",
      "ans =  4\n",
      "ix =  3\n",
      "ans =  5\n",
      "ix =  4\n"
     ]
    }
   ],
   "source": [
    "ix = 1;\n",
    "while ix <= numel(arr)\n",
    "  arr(ix)\n",
    "  ix += 1\n",
    "end"
   ]
  },
  {
   "cell_type": "code",
   "execution_count": 38,
   "metadata": {},
   "outputs": [
    {
     "name": "stdout",
     "output_type": "stream",
     "text": [
      "A =\n",
      "\n",
      "   4   3\n",
      "   1   2\n",
      "\n",
      "i =  1\n",
      "j =  1\n",
      "ans =  4\n",
      "i =  1\n",
      "j =  2\n",
      "ans =  3\n",
      "i =  2\n",
      "j =  1\n",
      "ans =  1\n",
      "i =  2\n",
      "j =  2\n",
      "ans =  2\n"
     ]
    }
   ],
   "source": [
    "A = magic(2)\n",
    "[m,n] = size(A);\n",
    "\n",
    "for i=1:m\n",
    "    for j=1:n\n",
    "       i,j\n",
    "       A(i,j)\n",
    "    end\n",
    "end"
   ]
  },
  {
   "cell_type": "markdown",
   "metadata": {},
   "source": [
    "### 3.feladat: Sajátérték-e a 0?\n",
    "\n",
    "Az eddigiek felhasználásával irjunk olyan mátrix bemenetű függvényt, ami eldönti, hogy a bemenetnek a 0 sajátértéke-e. Próbáljuk meg először ciklussal, majd anélkül."
   ]
  },
  {
   "cell_type": "code",
   "execution_count": 39,
   "metadata": {},
   "outputs": [
    {
     "name": "stdout",
     "output_type": "stream",
     "text": [
      "ans =  1\n",
      "ans = 0\n"
     ]
    }
   ],
   "source": [
    "function zero_is_eig = is_zero_eigenvalue(A)\n",
    "     eigs = eig(A);\n",
    "     \n",
    "     zero_is_eig = 0;\n",
    "     \n",
    "     for ix=1:numel(eigs)\n",
    "        if eigs(ix) == 0\n",
    "            zero_is_eig = 1;\n",
    "        end\n",
    "     end\n",
    "endfunction\n",
    "\n",
    "is_zero_eigenvalue(ones(2))\n",
    "is_zero_eigenvalue(eye(2))"
   ]
  },
  {
   "cell_type": "code",
   "execution_count": 40,
   "metadata": {},
   "outputs": [
    {
     "name": "stdout",
     "output_type": "stream",
     "text": [
      "ans = 1\n",
      "ans = 0\n"
     ]
    }
   ],
   "source": [
    "ismember(0, eigs(ones(2)))\n",
    "ismember(0, eigs(eye(2)))"
   ]
  },
  {
   "cell_type": "markdown",
   "metadata": {},
   "source": [
    "### 4.feladat: Sajátérték-e?\n",
    "\n",
    "Az előző feladat megoldását általánosítsuk úgy, hogy a 0 helyett más számról is el lehessen dönteni, hogy sajátérték-e."
   ]
  },
  {
   "cell_type": "code",
   "execution_count": 41,
   "metadata": {},
   "outputs": [],
   "source": [
    "function lam_is_eig = is_eigenvalue(A, lam)\n",
    "    % ...\n",
    "endfunction"
   ]
  },
  {
   "cell_type": "code",
   "execution_count": 42,
   "metadata": {},
   "outputs": [],
   "source": [
    "% is_eigenvalue.m"
   ]
  }
 ],
 "metadata": {
  "kernelspec": {
   "display_name": "Octave",
   "language": "octave",
   "name": "octave"
  },
  "language_info": {
   "file_extension": ".m",
   "help_links": [
    {
     "text": "GNU Octave",
     "url": "https://www.gnu.org/software/octave/support.html"
    },
    {
     "text": "Octave Kernel",
     "url": "https://github.com/Calysto/octave_kernel"
    },
    {
     "text": "MetaKernel Magics",
     "url": "https://metakernel.readthedocs.io/en/latest/source/README.html"
    }
   ],
   "mimetype": "text/x-octave",
   "name": "octave",
   "version": "5.2.0"
  }
 },
 "nbformat": 4,
 "nbformat_minor": 4
}
